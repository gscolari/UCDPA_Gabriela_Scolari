{
 "cells": [
  {
   "cell_type": "raw",
   "id": "62f80b38",
   "metadata": {},
   "source": [
    "# Import libraries for reading data into frame, analysis and visualization "
   ]
  },
  {
   "cell_type": "code",
   "execution_count": 2,
   "id": "4da00900",
   "metadata": {},
   "outputs": [],
   "source": [
    "import pandas as pd "
   ]
  },
  {
   "cell_type": "code",
   "execution_count": 3,
   "id": "176d1ef9",
   "metadata": {},
   "outputs": [],
   "source": [
    "import numpy as np "
   ]
  },
  {
   "cell_type": "code",
   "execution_count": 4,
   "id": "95367e4a",
   "metadata": {},
   "outputs": [],
   "source": [
    "import matplotlib.pyplot as plt "
   ]
  },
  {
   "cell_type": "code",
   "execution_count": 5,
   "id": "a90b7620",
   "metadata": {},
   "outputs": [],
   "source": [
    "import seaborn as sns "
   ]
  },
  {
   "cell_type": "raw",
   "id": "4158af87",
   "metadata": {},
   "source": [
    "# Import the CSV files into a Pandas Data Frame "
   ]
  },
  {
   "cell_type": "code",
   "execution_count": 7,
   "id": "3fe2cd3f",
   "metadata": {},
   "outputs": [],
   "source": [
    "violence = pd.read_csv('violence_against_women.csv') "
   ]
  },
  {
   "cell_type": "code",
   "execution_count": 8,
   "id": "38d1df25",
   "metadata": {},
   "outputs": [],
   "source": [
    "contraceptive = pd.read_csv('contraceptive.csv', encoding='iso-8859-1') "
   ]
  },
  {
   "cell_type": "raw",
   "id": "b2905143",
   "metadata": {},
   "source": [
    "# Sorting “contraceptive” data by Percentage distribution of women aged 15-49 (per country) - who have the relevant pregnancy intention and contraceptive use - in Descending Order  "
   ]
  },
  {
   "cell_type": "code",
   "execution_count": 10,
   "id": "f1b1ec0a",
   "metadata": {},
   "outputs": [],
   "source": [
    "contracept_sorted = contraceptive.sort_values(by='Percentage distribution of women aged 15-49  (per country)', ascending=False) "
   ]
  },
  {
   "cell_type": "raw",
   "id": "01fa20c5",
   "metadata": {},
   "source": [
    "# Sorting “violence” data by Value in Descending Order  - Value in this dataset means % of people surveyed in the relevant group who agree with the question (e.g. the percentage of women aged 15-24 in Afghanistan who agree that a husband is justified in hitting or beating his wife if she burns the food) "
   ]
  },
  {
   "cell_type": "code",
   "execution_count": 12,
   "id": "faac913d",
   "metadata": {},
   "outputs": [],
   "source": [
    "violence_sorted = violence.sort_values(by='Value', ascending=False)  "
   ]
  },
  {
   "cell_type": "raw",
   "id": "6985918d",
   "metadata": {},
   "source": [
    "# Checking for missing values "
   ]
  },
  {
   "cell_type": "code",
   "execution_count": 14,
   "id": "01a73162",
   "metadata": {},
   "outputs": [
    {
     "data": {
      "text/plain": [
       "False"
      ]
     },
     "execution_count": 14,
     "metadata": {},
     "output_type": "execute_result"
    }
   ],
   "source": [
    "contracept_sorted.isnull().values.any() "
   ]
  },
  {
   "cell_type": "code",
   "execution_count": 15,
   "id": "2a22765a",
   "metadata": {},
   "outputs": [
    {
     "data": {
      "text/plain": [
       "True"
      ]
     },
     "execution_count": 15,
     "metadata": {},
     "output_type": "execute_result"
    }
   ],
   "source": [
    "violence_sorted.isnull().values.any() "
   ]
  },
  {
   "cell_type": "raw",
   "id": "64af6de0",
   "metadata": {},
   "source": [
    "#Replacing missing values "
   ]
  },
  {
   "cell_type": "code",
   "execution_count": 17,
   "id": "37d1b708",
   "metadata": {},
   "outputs": [
    {
     "data": {
      "text/html": [
       "<div>\n",
       "<style scoped>\n",
       "    .dataframe tbody tr th:only-of-type {\n",
       "        vertical-align: middle;\n",
       "    }\n",
       "\n",
       "    .dataframe tbody tr th {\n",
       "        vertical-align: top;\n",
       "    }\n",
       "\n",
       "    .dataframe thead th {\n",
       "        text-align: right;\n",
       "    }\n",
       "</style>\n",
       "<table border=\"1\" class=\"dataframe\">\n",
       "  <thead>\n",
       "    <tr style=\"text-align: right;\">\n",
       "      <th></th>\n",
       "      <th>RecordID</th>\n",
       "      <th>Country</th>\n",
       "      <th>Gender</th>\n",
       "      <th>Demographics Question</th>\n",
       "      <th>Demographics Response</th>\n",
       "      <th>Question</th>\n",
       "      <th>Survey Year</th>\n",
       "      <th>Value</th>\n",
       "    </tr>\n",
       "  </thead>\n",
       "  <tbody>\n",
       "    <tr>\n",
       "      <th>66</th>\n",
       "      <td>351</td>\n",
       "      <td>Afghanistan</td>\n",
       "      <td>F</td>\n",
       "      <td>Employment</td>\n",
       "      <td>Employed for kind</td>\n",
       "      <td>... for at least one specific reason</td>\n",
       "      <td>01/01/2015</td>\n",
       "      <td>86.9</td>\n",
       "    </tr>\n",
       "    <tr>\n",
       "      <th>7783</th>\n",
       "      <td>394</td>\n",
       "      <td>Morocco</td>\n",
       "      <td>F</td>\n",
       "      <td>Employment</td>\n",
       "      <td>Employed for kind</td>\n",
       "      <td>... for at least one specific reason</td>\n",
       "      <td>01/01/2003</td>\n",
       "      <td>86.1</td>\n",
       "    </tr>\n",
       "    <tr>\n",
       "      <th>11023</th>\n",
       "      <td>412</td>\n",
       "      <td>Timor-Leste</td>\n",
       "      <td>F</td>\n",
       "      <td>Employment</td>\n",
       "      <td>Employed for kind</td>\n",
       "      <td>... for at least one specific reason</td>\n",
       "      <td>01/01/2016</td>\n",
       "      <td>85.2</td>\n",
       "    </tr>\n",
       "    <tr>\n",
       "      <th>7423</th>\n",
       "      <td>392</td>\n",
       "      <td>Mali</td>\n",
       "      <td>F</td>\n",
       "      <td>Employment</td>\n",
       "      <td>Employed for kind</td>\n",
       "      <td>... for at least one specific reason</td>\n",
       "      <td>01/01/2018</td>\n",
       "      <td>83.3</td>\n",
       "    </tr>\n",
       "    <tr>\n",
       "      <th>3666</th>\n",
       "      <td>371</td>\n",
       "      <td>Eritrea</td>\n",
       "      <td>F</td>\n",
       "      <td>Employment</td>\n",
       "      <td>Employed for kind</td>\n",
       "      <td>... for at least one specific reason</td>\n",
       "      <td>01/01/2002</td>\n",
       "      <td>82.8</td>\n",
       "    </tr>\n",
       "    <tr>\n",
       "      <th>...</th>\n",
       "      <td>...</td>\n",
       "      <td>...</td>\n",
       "      <td>...</td>\n",
       "      <td>...</td>\n",
       "      <td>...</td>\n",
       "      <td>...</td>\n",
       "      <td>...</td>\n",
       "      <td>...</td>\n",
       "    </tr>\n",
       "    <tr>\n",
       "      <th>12235</th>\n",
       "      <td>208</td>\n",
       "      <td>Yemen</td>\n",
       "      <td>M</td>\n",
       "      <td>Residence</td>\n",
       "      <td>Urban</td>\n",
       "      <td>... if she goes out without telling him</td>\n",
       "      <td>01/01/2013</td>\n",
       "      <td>0.0</td>\n",
       "    </tr>\n",
       "    <tr>\n",
       "      <th>12236</th>\n",
       "      <td>278</td>\n",
       "      <td>Yemen</td>\n",
       "      <td>M</td>\n",
       "      <td>Residence</td>\n",
       "      <td>Rural</td>\n",
       "      <td>... if she neglects the children</td>\n",
       "      <td>01/01/2013</td>\n",
       "      <td>0.0</td>\n",
       "    </tr>\n",
       "    <tr>\n",
       "      <th>12237</th>\n",
       "      <td>278</td>\n",
       "      <td>Yemen</td>\n",
       "      <td>M</td>\n",
       "      <td>Residence</td>\n",
       "      <td>Urban</td>\n",
       "      <td>... if she neglects the children</td>\n",
       "      <td>01/01/2013</td>\n",
       "      <td>0.0</td>\n",
       "    </tr>\n",
       "    <tr>\n",
       "      <th>12238</th>\n",
       "      <td>348</td>\n",
       "      <td>Yemen</td>\n",
       "      <td>M</td>\n",
       "      <td>Residence</td>\n",
       "      <td>Rural</td>\n",
       "      <td>... if she refuses to have sex with him</td>\n",
       "      <td>01/01/2013</td>\n",
       "      <td>0.0</td>\n",
       "    </tr>\n",
       "    <tr>\n",
       "      <th>12239</th>\n",
       "      <td>348</td>\n",
       "      <td>Yemen</td>\n",
       "      <td>M</td>\n",
       "      <td>Residence</td>\n",
       "      <td>Urban</td>\n",
       "      <td>... if she refuses to have sex with him</td>\n",
       "      <td>01/01/2013</td>\n",
       "      <td>0.0</td>\n",
       "    </tr>\n",
       "  </tbody>\n",
       "</table>\n",
       "<p>12600 rows × 8 columns</p>\n",
       "</div>"
      ],
      "text/plain": [
       "       RecordID      Country Gender Demographics Question  \\\n",
       "66          351  Afghanistan      F            Employment   \n",
       "7783        394      Morocco      F            Employment   \n",
       "11023       412  Timor-Leste      F            Employment   \n",
       "7423        392         Mali      F            Employment   \n",
       "3666        371      Eritrea      F            Employment   \n",
       "...         ...          ...    ...                   ...   \n",
       "12235       208        Yemen      M             Residence   \n",
       "12236       278        Yemen      M             Residence   \n",
       "12237       278        Yemen      M             Residence   \n",
       "12238       348        Yemen      M             Residence   \n",
       "12239       348        Yemen      M             Residence   \n",
       "\n",
       "      Demographics Response                                 Question  \\\n",
       "66        Employed for kind     ... for at least one specific reason   \n",
       "7783      Employed for kind     ... for at least one specific reason   \n",
       "11023     Employed for kind     ... for at least one specific reason   \n",
       "7423      Employed for kind     ... for at least one specific reason   \n",
       "3666      Employed for kind     ... for at least one specific reason   \n",
       "...                     ...                                      ...   \n",
       "12235                 Urban  ... if she goes out without telling him   \n",
       "12236                 Rural         ... if she neglects the children   \n",
       "12237                 Urban         ... if she neglects the children   \n",
       "12238                 Rural  ... if she refuses to have sex with him   \n",
       "12239                 Urban  ... if she refuses to have sex with him   \n",
       "\n",
       "      Survey Year  Value  \n",
       "66     01/01/2015   86.9  \n",
       "7783   01/01/2003   86.1  \n",
       "11023  01/01/2016   85.2  \n",
       "7423   01/01/2018   83.3  \n",
       "3666   01/01/2002   82.8  \n",
       "...           ...    ...  \n",
       "12235  01/01/2013    0.0  \n",
       "12236  01/01/2013    0.0  \n",
       "12237  01/01/2013    0.0  \n",
       "12238  01/01/2013    0.0  \n",
       "12239  01/01/2013    0.0  \n",
       "\n",
       "[12600 rows x 8 columns]"
      ]
     },
     "execution_count": 17,
     "metadata": {},
     "output_type": "execute_result"
    }
   ],
   "source": [
    "violence_sorted.fillna(0)  "
   ]
  },
  {
   "cell_type": "raw",
   "id": "0cf9ed7d",
   "metadata": {},
   "source": [
    "# head.() showing sorted values to start having first impressions "
   ]
  },
  {
   "cell_type": "code",
   "execution_count": 18,
   "id": "b2d19246",
   "metadata": {},
   "outputs": [
    {
     "data": {
      "text/html": [
       "<div>\n",
       "<style scoped>\n",
       "    .dataframe tbody tr th:only-of-type {\n",
       "        vertical-align: middle;\n",
       "    }\n",
       "\n",
       "    .dataframe tbody tr th {\n",
       "        vertical-align: top;\n",
       "    }\n",
       "\n",
       "    .dataframe thead th {\n",
       "        text-align: right;\n",
       "    }\n",
       "</style>\n",
       "<table border=\"1\" class=\"dataframe\">\n",
       "  <thead>\n",
       "    <tr style=\"text-align: right;\">\n",
       "      <th></th>\n",
       "      <th>RecordID</th>\n",
       "      <th>Country</th>\n",
       "      <th>Gender</th>\n",
       "      <th>Demographics Question</th>\n",
       "      <th>Demographics Response</th>\n",
       "      <th>Question</th>\n",
       "      <th>Survey Year</th>\n",
       "      <th>Value</th>\n",
       "    </tr>\n",
       "  </thead>\n",
       "  <tbody>\n",
       "    <tr>\n",
       "      <th>66</th>\n",
       "      <td>351</td>\n",
       "      <td>Afghanistan</td>\n",
       "      <td>F</td>\n",
       "      <td>Employment</td>\n",
       "      <td>Employed for kind</td>\n",
       "      <td>... for at least one specific reason</td>\n",
       "      <td>01/01/2015</td>\n",
       "      <td>86.9</td>\n",
       "    </tr>\n",
       "    <tr>\n",
       "      <th>7783</th>\n",
       "      <td>394</td>\n",
       "      <td>Morocco</td>\n",
       "      <td>F</td>\n",
       "      <td>Employment</td>\n",
       "      <td>Employed for kind</td>\n",
       "      <td>... for at least one specific reason</td>\n",
       "      <td>01/01/2003</td>\n",
       "      <td>86.1</td>\n",
       "    </tr>\n",
       "    <tr>\n",
       "      <th>11023</th>\n",
       "      <td>412</td>\n",
       "      <td>Timor-Leste</td>\n",
       "      <td>F</td>\n",
       "      <td>Employment</td>\n",
       "      <td>Employed for kind</td>\n",
       "      <td>... for at least one specific reason</td>\n",
       "      <td>01/01/2016</td>\n",
       "      <td>85.2</td>\n",
       "    </tr>\n",
       "    <tr>\n",
       "      <th>7423</th>\n",
       "      <td>392</td>\n",
       "      <td>Mali</td>\n",
       "      <td>F</td>\n",
       "      <td>Employment</td>\n",
       "      <td>Employed for kind</td>\n",
       "      <td>... for at least one specific reason</td>\n",
       "      <td>01/01/2018</td>\n",
       "      <td>83.3</td>\n",
       "    </tr>\n",
       "    <tr>\n",
       "      <th>3666</th>\n",
       "      <td>371</td>\n",
       "      <td>Eritrea</td>\n",
       "      <td>F</td>\n",
       "      <td>Employment</td>\n",
       "      <td>Employed for kind</td>\n",
       "      <td>... for at least one specific reason</td>\n",
       "      <td>01/01/2002</td>\n",
       "      <td>82.8</td>\n",
       "    </tr>\n",
       "  </tbody>\n",
       "</table>\n",
       "</div>"
      ],
      "text/plain": [
       "       RecordID      Country Gender Demographics Question  \\\n",
       "66          351  Afghanistan      F            Employment   \n",
       "7783        394      Morocco      F            Employment   \n",
       "11023       412  Timor-Leste      F            Employment   \n",
       "7423        392         Mali      F            Employment   \n",
       "3666        371      Eritrea      F            Employment   \n",
       "\n",
       "      Demographics Response                              Question Survey Year  \\\n",
       "66        Employed for kind  ... for at least one specific reason  01/01/2015   \n",
       "7783      Employed for kind  ... for at least one specific reason  01/01/2003   \n",
       "11023     Employed for kind  ... for at least one specific reason  01/01/2016   \n",
       "7423      Employed for kind  ... for at least one specific reason  01/01/2018   \n",
       "3666      Employed for kind  ... for at least one specific reason  01/01/2002   \n",
       "\n",
       "       Value  \n",
       "66      86.9  \n",
       "7783    86.1  \n",
       "11023   85.2  \n",
       "7423    83.3  \n",
       "3666    82.8  "
      ]
     },
     "execution_count": 18,
     "metadata": {},
     "output_type": "execute_result"
    }
   ],
   "source": [
    "violence_sorted.head() "
   ]
  },
  {
   "cell_type": "code",
   "execution_count": 19,
   "id": "e6511544",
   "metadata": {},
   "outputs": [
    {
     "data": {
      "text/html": [
       "<div>\n",
       "<style scoped>\n",
       "    .dataframe tbody tr th:only-of-type {\n",
       "        vertical-align: middle;\n",
       "    }\n",
       "\n",
       "    .dataframe tbody tr th {\n",
       "        vertical-align: top;\n",
       "    }\n",
       "\n",
       "    .dataframe thead th {\n",
       "        text-align: right;\n",
       "    }\n",
       "</style>\n",
       "<table border=\"1\" class=\"dataframe\">\n",
       "  <thead>\n",
       "    <tr style=\"text-align: right;\">\n",
       "      <th></th>\n",
       "      <th>Continent</th>\n",
       "      <th>Sub-Continent</th>\n",
       "      <th>Country</th>\n",
       "      <th>Percentage distribution of women aged 15-49  (per country)</th>\n",
       "      <th>Pregnancy intention</th>\n",
       "      <th>Contraceptive availability</th>\n",
       "      <th>Contraceptive method</th>\n",
       "    </tr>\n",
       "  </thead>\n",
       "  <tbody>\n",
       "    <tr>\n",
       "      <th>144</th>\n",
       "      <td>Africa</td>\n",
       "      <td>Western Africa</td>\n",
       "      <td>Gambia</td>\n",
       "      <td>0.767790</td>\n",
       "      <td>Not wanting to avoid pregancy</td>\n",
       "      <td>Not applicable</td>\n",
       "      <td>Not applicable</td>\n",
       "    </tr>\n",
       "    <tr>\n",
       "      <th>384</th>\n",
       "      <td>Asia</td>\n",
       "      <td>Western Asia</td>\n",
       "      <td>Oman</td>\n",
       "      <td>0.763389</td>\n",
       "      <td>Not wanting to avoid pregancy</td>\n",
       "      <td>Not applicable</td>\n",
       "      <td>Not applicable</td>\n",
       "    </tr>\n",
       "    <tr>\n",
       "      <th>336</th>\n",
       "      <td>Asia</td>\n",
       "      <td>Southeast Asia</td>\n",
       "      <td>Timor-Leste</td>\n",
       "      <td>0.761478</td>\n",
       "      <td>Not wanting to avoid pregancy</td>\n",
       "      <td>Not applicable</td>\n",
       "      <td>Not applicable</td>\n",
       "    </tr>\n",
       "    <tr>\n",
       "      <th>84</th>\n",
       "      <td>Africa</td>\n",
       "      <td>Middle Africa</td>\n",
       "      <td>Chad</td>\n",
       "      <td>0.760539</td>\n",
       "      <td>Not wanting to avoid pregancy</td>\n",
       "      <td>Not applicable</td>\n",
       "      <td>Not applicable</td>\n",
       "    </tr>\n",
       "    <tr>\n",
       "      <th>444</th>\n",
       "      <td>Oceania</td>\n",
       "      <td>Polynesia</td>\n",
       "      <td>French Polynesia</td>\n",
       "      <td>0.760404</td>\n",
       "      <td>Not wanting to avoid pregancy</td>\n",
       "      <td>Not applicable</td>\n",
       "      <td>Not applicable</td>\n",
       "    </tr>\n",
       "  </tbody>\n",
       "</table>\n",
       "</div>"
      ],
      "text/plain": [
       "    Continent   Sub-Continent           Country  \\\n",
       "144    Africa  Western Africa            Gambia   \n",
       "384      Asia    Western Asia              Oman   \n",
       "336      Asia  Southeast Asia       Timor-Leste   \n",
       "84     Africa   Middle Africa              Chad   \n",
       "444   Oceania       Polynesia  French Polynesia   \n",
       "\n",
       "     Percentage distribution of women aged 15-49  (per country)  \\\n",
       "144                                           0.767790            \n",
       "384                                           0.763389            \n",
       "336                                           0.761478            \n",
       "84                                            0.760539            \n",
       "444                                           0.760404            \n",
       "\n",
       "               Pregnancy intention Contraceptive availability  \\\n",
       "144  Not wanting to avoid pregancy             Not applicable   \n",
       "384  Not wanting to avoid pregancy             Not applicable   \n",
       "336  Not wanting to avoid pregancy             Not applicable   \n",
       "84   Not wanting to avoid pregancy             Not applicable   \n",
       "444  Not wanting to avoid pregancy             Not applicable   \n",
       "\n",
       "    Contraceptive method  \n",
       "144       Not applicable  \n",
       "384       Not applicable  \n",
       "336       Not applicable  \n",
       "84        Not applicable  \n",
       "444       Not applicable  "
      ]
     },
     "execution_count": 19,
     "metadata": {},
     "output_type": "execute_result"
    }
   ],
   "source": [
    "contracept_sorted.head() \n",
    " "
   ]
  },
  {
   "cell_type": "raw",
   "id": "c8cdb03a",
   "metadata": {},
   "source": [
    "# Here my analysis starts"
   ]
  },
  {
   "cell_type": "raw",
   "id": "bc0bce69",
   "metadata": {},
   "source": [
    "# Analysing how many women have the intention or not to avoid pregnancy grouped by “continent” and “pregnancy intention” "
   ]
  },
  {
   "cell_type": "raw",
   "id": "861228e4",
   "metadata": {},
   "source": [
    "# The groupby function was the one that best suited this part of analysis since I wanted to know the difference amongst continents. "
   ]
  },
  {
   "cell_type": "code",
   "execution_count": 20,
   "id": "3c6928d3",
   "metadata": {},
   "outputs": [
    {
     "data": {
      "text/plain": [
       "<AxesSubplot:xlabel='Continent'>"
      ]
     },
     "execution_count": 20,
     "metadata": {},
     "output_type": "execute_result"
    },
    {
     "data": {
      "image/png": "[encoded data removed]",
      "text/plain": [
       "<Figure size 432x288 with 1 Axes>"
      ]
     },
     "metadata": {
      "needs_background": "light"
     },
     "output_type": "display_data"
    }
   ],
   "source": [
    "grouped = contraceptive.groupby(['Continent', 'Pregnancy intention']).size().unstack() \n",
    "\n",
    "grouped.plot(kind='bar', stacked=True) "
   ]
  },
  {
   "cell_type": "raw",
   "id": "a216a0dc",
   "metadata": {},
   "source": [
    "# Analysing how many women want to avoid pregnancy related to having available contraceptive to meet their needs. "
   ]
  },
  {
   "cell_type": "raw",
   "id": "02e59462",
   "metadata": {},
   "source": [
    "# Calculating value counts for \"Pregnancy intention\" and \"Contraceptive availability\" "
   ]
  },
  {
   "cell_type": "code",
   "execution_count": 21,
   "id": "c3d02d16",
   "metadata": {},
   "outputs": [],
   "source": [
    "pregnancy_counts = contraceptive['Pregnancy intention'].value_counts() "
   ]
  },
  {
   "cell_type": "code",
   "execution_count": 22,
   "id": "dcb181fe",
   "metadata": {},
   "outputs": [],
   "source": [
    "contraceptive_counts = contraceptive['Contraceptive availability'].value_counts() "
   ]
  },
  {
   "cell_type": "raw",
   "id": "e28907bc",
   "metadata": {},
   "source": [
    "# Creating a bar plot for visualization "
   ]
  },
  {
   "cell_type": "code",
   "execution_count": 23,
   "id": "c39bd8b2",
   "metadata": {},
   "outputs": [
    {
     "data": {
      "text/plain": [
       "<Figure size 720x432 with 0 Axes>"
      ]
     },
     "execution_count": 23,
     "metadata": {},
     "output_type": "execute_result"
    },
    {
     "data": {
      "text/plain": [
       "<Figure size 720x432 with 0 Axes>"
      ]
     },
     "metadata": {},
     "output_type": "display_data"
    }
   ],
   "source": [
    "plt.figure(figsize=(10, 6)) "
   ]
  },
  {
   "cell_type": "raw",
   "id": "140fcb0b",
   "metadata": {},
   "source": [
    "# Plotting Pregnancy Intention "
   ]
  },
  {
   "cell_type": "code",
   "execution_count": 24,
   "id": "1e2f7b09",
   "metadata": {},
   "outputs": [
    {
     "data": {
      "image/png": "[encoded data removed]",
      "text/plain": [
       "<Figure size 432x288 with 1 Axes>"
      ]
     },
     "metadata": {
      "needs_background": "light"
     },
     "output_type": "display_data"
    }
   ],
   "source": [
    "plt.subplot(1, 2, 1) \n",
    "\n",
    "pregnancy_counts.plot(kind='bar') \n",
    "\n",
    "plt.title('Pregnancy Intention Counts') \n",
    "\n",
    "plt.xlabel('Pregnancy Intention') \n",
    "\n",
    "plt.ylabel('Count') \n",
    "\n",
    "plt.show() "
   ]
  },
  {
   "cell_type": "raw",
   "id": "032752ab",
   "metadata": {},
   "source": [
    "# Plotting Contraceptive Availability "
   ]
  },
  {
   "cell_type": "code",
   "execution_count": 25,
   "id": "11c091ce",
   "metadata": {},
   "outputs": [
    {
     "data": {
      "image/png": "[encoded data removed]",
      "text/plain": [
       "<Figure size 432x288 with 1 Axes>"
      ]
     },
     "metadata": {
      "needs_background": "light"
     },
     "output_type": "display_data"
    }
   ],
   "source": [
    "plt.subplot(1, 2, 2) \n",
    "\n",
    "contraceptive_counts.plot(kind='bar') \n",
    "\n",
    "plt.title('Contraceptive Availability Counts') \n",
    "\n",
    "plt.xlabel('Contraceptive Availability') \n",
    "\n",
    "plt.ylabel('Count') \n",
    "\n",
    "plt.tight_layout() \n",
    "\n",
    "plt.show() "
   ]
  },
  {
   "cell_type": "raw",
   "id": "b4b56683",
   "metadata": {},
   "source": [
    "#This was my single analysis for “contraceptive” Data Frame. "
   ]
  },
  {
   "cell_type": "raw",
   "id": "88588d38",
   "metadata": {},
   "source": [
    "#Now I will start analysing my second Data Frame, “violence” - This data was taken from a survey of men and women in African, Asian, and South American countries, exploring the attitudes and perceived justifications given for committing acts of violence against women. The data also explores different sociodemographic groups that the respondents belong to, including: Education Level, Marital status, Employment, and Age group. "
   ]
  },
  {
   "cell_type": "raw",
   "id": "d69506b9",
   "metadata": {},
   "source": [
    "# My first analysis is to have an overview of how many people with ages \"15-24\", \"25-34\", \"35-49\" years old participate of this survey. "
   ]
  },
  {
   "cell_type": "raw",
   "id": "0e1f649e",
   "metadata": {},
   "source": [
    "# Filtered the Data Frame based on \"Demographics Question\" containing \"age\" "
   ]
  },
  {
   "cell_type": "code",
   "execution_count": 26,
   "id": "74033a14",
   "metadata": {},
   "outputs": [],
   "source": [
    "age_demographics = violence_sorted[violence_sorted['Demographics Question'].str.contains('age', case=False)] "
   ]
  },
  {
   "cell_type": "raw",
   "id": "96c03a08",
   "metadata": {},
   "source": [
    "# Counted the occurrences of each response in \"Demographics Response\" "
   ]
  },
  {
   "cell_type": "code",
   "execution_count": 27,
   "id": "c4252221",
   "metadata": {},
   "outputs": [],
   "source": [
    "response_counts = age_demographics['Demographics Response'].value_counts() "
   ]
  },
  {
   "cell_type": "raw",
   "id": "0cc8151d",
   "metadata": {},
   "source": [
    "# Created a bar plot for visualization "
   ]
  },
  {
   "cell_type": "code",
   "execution_count": 28,
   "id": "81e59ade",
   "metadata": {},
   "outputs": [
    {
     "data": {
      "image/png": "[encoded data removed]",
      "text/plain": [
       "<Figure size 720x432 with 1 Axes>"
      ]
     },
     "metadata": {
      "needs_background": "light"
     },
     "output_type": "display_data"
    }
   ],
   "source": [
    "plt.figure(figsize=(10, 6)) \n",
    "\n",
    "response_counts.plot(kind='bar') \n",
    "\n",
    "plt.title('Demographics Response for Age-related Questions') \n",
    "\n",
    "plt.xlabel('Demographics Response') \n",
    "\n",
    "plt.ylabel('Count') \n",
    "\n",
    "plt.xticks(rotation=45) \n",
    "\n",
    "plt.tight_layout() \n",
    "\n",
    "plt.show() "
   ]
  },
  {
   "cell_type": "raw",
   "id": "041f1733",
   "metadata": {},
   "source": [
    "# Then I analysed the country with highest value (most violent country for women) and the lowest value (least violent country for women): "
   ]
  },
  {
   "cell_type": "raw",
   "id": "2dc94d79",
   "metadata": {},
   "source": [
    "# Finding the country with the highest value "
   ]
  },
  {
   "cell_type": "code",
   "execution_count": 29,
   "id": "f21320a7",
   "metadata": {},
   "outputs": [],
   "source": [
    "highest_value_country = violence_sorted.loc[violence_sorted['Value'].idxmax(), 'Country'] \n",
    " "
   ]
  },
  {
   "cell_type": "raw",
   "id": "a5b0e357",
   "metadata": {},
   "source": [
    "# Finding the country with the lowest value "
   ]
  },
  {
   "cell_type": "code",
   "execution_count": 30,
   "id": "fb604295",
   "metadata": {},
   "outputs": [],
   "source": [
    "lowest_value_country = violence_sorted.loc[violence_sorted['Value'].idxmin(), 'Country'] "
   ]
  },
  {
   "cell_type": "raw",
   "id": "49234f2e",
   "metadata": {},
   "source": [
    "#printing results from findings "
   ]
  },
  {
   "cell_type": "code",
   "execution_count": 31,
   "id": "cffa8367",
   "metadata": {},
   "outputs": [
    {
     "name": "stdout",
     "output_type": "stream",
     "text": [
      "The country with the highest value, which means most violent country for women, is : Afghanistan\n"
     ]
    }
   ],
   "source": [
    "print(f\"The country with the highest value, which means most violent country for women, is : {highest_value_country}\") "
   ]
  },
  {
   "cell_type": "code",
   "execution_count": 32,
   "id": "d03a6357",
   "metadata": {},
   "outputs": [
    {
     "name": "stdout",
     "output_type": "stream",
     "text": [
      "The country with the lowest value, which means safest country for women, is: Cambodia\n"
     ]
    }
   ],
   "source": [
    "print(f\"The country with the lowest value, which means safest country for women, is: {lowest_value_country}\") "
   ]
  },
  {
   "cell_type": "raw",
   "id": "472d6ad9",
   "metadata": {},
   "source": [
    "#Then I analysed what country would be the middle term for women to live in, not the most violent neither the least violent "
   ]
  },
  {
   "cell_type": "raw",
   "id": "08d7439b",
   "metadata": {},
   "source": [
    "# Calculating the median of the \"Value\" column "
   ]
  },
  {
   "cell_type": "code",
   "execution_count": 33,
   "id": "06736674",
   "metadata": {},
   "outputs": [],
   "source": [
    "median_value = violence_sorted['Value'].median() "
   ]
  },
  {
   "cell_type": "raw",
   "id": "e286dc9c",
   "metadata": {},
   "source": [
    "# Finding the country closest to the median value "
   ]
  },
  {
   "cell_type": "code",
   "execution_count": 34,
   "id": "9d23f026",
   "metadata": {},
   "outputs": [],
   "source": [
    "middle_country = violence_sorted.loc[ \n",
    "\n",
    "    violence_sorted['Value'].sub(median_value).abs().idxmin(), \n",
    "\n",
    "    'Country' \n",
    "\n",
    "] "
   ]
  },
  {
   "cell_type": "raw",
   "id": "bcbc61b2",
   "metadata": {},
   "source": [
    "#printing the result from finding "
   ]
  },
  {
   "cell_type": "code",
   "execution_count": 35,
   "id": "3ab3aa56",
   "metadata": {},
   "outputs": [
    {
     "name": "stdout",
     "output_type": "stream",
     "text": [
      "The country closest to the median value is: Namibia\n"
     ]
    }
   ],
   "source": [
    "print(f\"The country closest to the median value is: {middle_country}\") "
   ]
  },
  {
   "cell_type": "raw",
   "id": "f2b15818",
   "metadata": {},
   "source": [
    "# I analysed by country, how many women with higher or no education suffer from violence. I wanted to know if women’s education has or hasn’t a relation with them suffering from violence. "
   ]
  },
  {
   "cell_type": "raw",
   "id": "6663cc1f",
   "metadata": {},
   "source": [
    "# Filtering the Data Frame for \"No education\" and \"Higher\" in the column “Demographics Responses” "
   ]
  },
  {
   "cell_type": "code",
   "execution_count": 36,
   "id": "9119169a",
   "metadata": {},
   "outputs": [],
   "source": [
    "filtered_df = violence_sorted[ \n",
    "\n",
    "    (violence_sorted['Demographics Response'] == 'No education') | \n",
    "\n",
    "    (violence_sorted['Demographics Response'] == 'Higher') \n",
    "\n",
    "] "
   ]
  },
  {
   "cell_type": "raw",
   "id": "4b57355e",
   "metadata": {},
   "source": [
    "# Removing rows with missing \"Value\" data "
   ]
  },
  {
   "cell_type": "code",
   "execution_count": 37,
   "id": "7d0b3397",
   "metadata": {},
   "outputs": [],
   "source": [
    "filtered_df = filtered_df.dropna(subset=['Value']) "
   ]
  },
  {
   "cell_type": "raw",
   "id": "c8807460",
   "metadata": {},
   "source": [
    "# Creating a bar plot using seaborn for visualization "
   ]
  },
  {
   "cell_type": "code",
   "execution_count": 38,
   "id": "ceac4449",
   "metadata": {},
   "outputs": [
    {
     "data": {
      "image/png": "[encoded data removed]",
      "text/plain": [
       "<Figure size 864x432 with 1 Axes>"
      ]
     },
     "metadata": {
      "needs_background": "light"
     },
     "output_type": "display_data"
    }
   ],
   "source": [
    "plt.figure(figsize=(12, 6)) \n",
    "\n",
    "sns.barplot(data=filtered_df, x='Country', y='Value', hue='Demographics Response') \n",
    "\n",
    "plt.title('Comparison of Value for \"No education\" and \"Higher\" Demographics Responses') \n",
    "\n",
    "plt.xlabel('Country') \n",
    "\n",
    "plt.ylabel('Value') \n",
    "\n",
    "plt.xticks(rotation=45, ha='right') \n",
    "\n",
    "plt.tight_layout() \n",
    "\n",
    "plt.show() \n",
    "\n"
   ]
  },
  {
   "cell_type": "raw",
   "id": "10c7d89f",
   "metadata": {},
   "source": [
    "# I analysed if employment status also makes a difference when the subject is violence against women "
   ]
  },
  {
   "cell_type": "raw",
   "id": "d835ca54",
   "metadata": {},
   "source": [
    "# Filtering the Data Frame for the desired “Demographics Responses” "
   ]
  },
  {
   "cell_type": "code",
   "execution_count": 39,
   "id": "df63854e",
   "metadata": {},
   "outputs": [],
   "source": [
    "filtered_df = violence_sorted[ \n",
    "\n",
    "    (violence_sorted['Demographics Response'] == 'Unemployed') | \n",
    "\n",
    "    (violence_sorted['Demographics Response'] == 'Employed for cash') | \n",
    "\n",
    "    (violence_sorted['Demographics Response'] == 'Employed for kind') | \n",
    "\n",
    "    (violence_sorted['Demographics Response'] == 'No education')  # Add missing value \n",
    "\n",
    "] "
   ]
  },
  {
   "cell_type": "raw",
   "id": "62ef717d",
   "metadata": {},
   "source": [
    "# Defining a custom colour palette "
   ]
  },
  {
   "cell_type": "code",
   "execution_count": 40,
   "id": "4eab2aa4",
   "metadata": {},
   "outputs": [],
   "source": [
    "custom_palette = { \n",
    "\n",
    "    'Unemployed': 'orange', \n",
    "\n",
    "    'Employed for cash': 'green', \n",
    "\n",
    "    'Employed for kind': 'pink', \n",
    "\n",
    "    'No education': 'blue'  # Adjust color and label as needed \n",
    "\n",
    "} "
   ]
  },
  {
   "cell_type": "raw",
   "id": "14b89238",
   "metadata": {},
   "source": [
    "#Creating a plot for visualization "
   ]
  },
  {
   "cell_type": "code",
   "execution_count": 41,
   "id": "8b142518",
   "metadata": {},
   "outputs": [
    {
     "data": {
      "image/png": "[encoded data removed]",
      "text/plain": [
       "<Figure size 864x432 with 1 Axes>"
      ]
     },
     "metadata": {
      "needs_background": "light"
     },
     "output_type": "display_data"
    }
   ],
   "source": [
    "plt.figure(figsize=(12, 6)) \n",
    "\n",
    "sns.barplot( \n",
    "\n",
    "    data=filtered_df, \n",
    "\n",
    "    x='Country', \n",
    "\n",
    "    y='Value', \n",
    "\n",
    "    hue='Demographics Response', \n",
    "\n",
    "    palette=custom_palette \n",
    "\n",
    ") \n",
    "\n",
    "plt.title('Comparison of Value for Different Employment Status') \n",
    "\n",
    "plt.xlabel('Country') \n",
    "\n",
    "plt.ylabel('Value') \n",
    "\n",
    "plt.xticks(rotation=45, ha='right') \n",
    "\n",
    "plt.tight_layout() \n",
    "\n",
    "plt.legend(title='Employment Status') \n",
    "\n",
    "plt.show() "
   ]
  },
  {
   "cell_type": "raw",
   "id": "5b9d5d37",
   "metadata": {},
   "source": [
    "# For my next analysis, I need the full list of countries in the column \"Country\" "
   ]
  },
  {
   "cell_type": "raw",
   "id": "75076284",
   "metadata": {},
   "source": [
    "# Extracting the list of unique countries from the \"Country\" column "
   ]
  },
  {
   "cell_type": "code",
   "execution_count": 42,
   "id": "6753cf05",
   "metadata": {},
   "outputs": [],
   "source": [
    "countries_list = violence_sorted['Country'].unique() "
   ]
  },
  {
   "cell_type": "raw",
   "id": "958dde1f",
   "metadata": {},
   "source": [
    "# Printing the list of countries "
   ]
  },
  {
   "cell_type": "code",
   "execution_count": 43,
   "id": "4ecab5e9",
   "metadata": {},
   "outputs": [
    {
     "name": "stdout",
     "output_type": "stream",
     "text": [
      "['Afghanistan' 'Morocco' 'Timor-Leste' 'Mali' 'Eritrea' 'Chad'\n",
      " 'Congo Democratic Republic' 'Azerbaijan' 'Gambia' 'Turkmenistan'\n",
      " 'Ethiopia' 'Guinea' 'Sierra Leone' 'Tajikistan' 'Burundi' 'Congo'\n",
      " 'Tanzania' 'Zambia' 'Niger' 'Pakistan' 'Egypt' 'Kyrgyz Republic' 'Yemen'\n",
      " 'Myanmar' 'Gabon' 'Kenya' 'Uganda' 'Senegal' 'Cambodia' 'Zimbabwe'\n",
      " 'Cameroon' \"Cote d'Ivoire\" 'Lesotho' 'India' 'Nigeria' 'Comoros'\n",
      " 'Liberia' 'Burkina Faso' 'Ghana' 'Armenia' 'Rwanda' 'Jordan' 'Moldova'\n",
      " 'Namibia' 'Indonesia' 'Eswatini' 'Nepal' 'Togo' 'Angola' 'Benin' 'Turkey'\n",
      " 'Madagascar' 'Sao Tome and Principe' 'Guyana' 'Bangladesh' 'Albania'\n",
      " 'Maldives' 'Mozambique' 'Honduras' 'Bolivia' 'Nicaragua' 'Haiti'\n",
      " 'Ukraine' 'Malawi' 'Guatemala' 'Philippines' 'South Africa' 'Colombia'\n",
      " 'Dominican Republic' 'Peru']\n"
     ]
    }
   ],
   "source": [
    "print(countries_list) "
   ]
  },
  {
   "cell_type": "raw",
   "id": "fc44bbd5",
   "metadata": {},
   "source": [
    "#My list has 79 countries, which I divided them by religion. I wanted to separate those countries by the most known religions, to have an overview if there’s relation between religion and violence against women. "
   ]
  },
  {
   "cell_type": "raw",
   "id": "afb02691",
   "metadata": {},
   "source": [
    "# Lists of countries by religious groups "
   ]
  },
  {
   "cell_type": "code",
   "execution_count": 44,
   "id": "706ec1f7",
   "metadata": {},
   "outputs": [],
   "source": [
    "islam_countries = ['Afghanistan', 'Morocco', 'Mali', 'Eritrea', 'Chad', 'Azerbaijan', 'Gambia', 'Turkmenistan', 'Ethiopia', 'Guinea', 'Sierra Leone', 'Tajikistan', 'Pakistan', 'Egypt', 'Kyrgyz Republic', 'Yemen', 'Gabon', 'Kenya', 'Uganda', 'Senegal', 'Comoros', \"Cote d'Ivoire\", 'Niger', 'Somalia'] \n",
    "\n",
    "christianity_countries = ['Timor-Leste', 'Congo Democratic Republic', 'Congo', 'Tanzania', 'Zambia', 'Burundi', 'Lesotho', 'Nigeria', 'Liberia', 'Burkina Faso', 'Ghana', 'Armenia', 'Rwanda', 'Namibia', 'Sao Tome and Principe', 'Guyana', 'Albania', 'Maldives', 'Honduras', 'Nicaragua', 'Dominican Republic', 'Peru'] \n",
    "\n",
    "hinduism_countries = ['Nepal'] \n",
    "\n",
    "buddhism_countries = ['Myanmar', 'Cambodia'] \n",
    "\n",
    "african_traditional_countries = ['Zimbabwe', 'Cameroon', 'Kenya', 'Uganda', 'South Africa'] \n",
    "\n",
    "multiple_religions_countries = ['India', 'Indonesia', 'Togo', 'Bangladesh', 'Mozambique', 'Turkey', 'Madagascar', 'Benin', 'Angola', 'Philippines', 'Colombia', 'Malawi', 'Guatemala', 'Haiti', 'Bolivia', 'Nicaragua', 'Haiti', 'Bolivia', 'South Africa'] "
   ]
  },
  {
   "cell_type": "raw",
   "id": "5ff8466a",
   "metadata": {},
   "source": [
    "# Creating a Data Frame with the categorized countries "
   ]
  },
  {
   "cell_type": "code",
   "execution_count": 45,
   "id": "a7dfaca8",
   "metadata": {},
   "outputs": [],
   "source": [
    "categories_df = pd.DataFrame({ \n",
    "\n",
    "    'Country': islam_countries + christianity_countries + hinduism_countries + \n",
    "\n",
    "               buddhism_countries + african_traditional_countries + multiple_religions_countries, \n",
    "\n",
    "    'Religion': (['Islam'] * len(islam_countries)) + \n",
    "\n",
    "                (['Christianity'] * len(christianity_countries)) + \n",
    "\n",
    "                (['Hinduism'] * len(hinduism_countries)) + \n",
    "\n",
    "                (['Buddhism'] * len(buddhism_countries)) + \n",
    "\n",
    "                (['African Traditional'] * len(african_traditional_countries)) + \n",
    "\n",
    "                (['Multiple Religions'] * len(multiple_religions_countries)) \n",
    "\n",
    "}) "
   ]
  },
  {
   "cell_type": "raw",
   "id": "a7094642",
   "metadata": {},
   "source": [
    " # Merging the categorized Data Frame with the “violence_sorted” Data Frame to get the \"Value\" for each category "
   ]
  },
  {
   "cell_type": "code",
   "execution_count": 46,
   "id": "a55a59e4",
   "metadata": {},
   "outputs": [],
   "source": [
    "merged_df = pd.merge(categories_df, violence_sorted, on='Country', how='left') "
   ]
  },
  {
   "cell_type": "raw",
   "id": "50d6995a",
   "metadata": {},
   "source": [
    "# Grouping the merged Data Frame by \"Religion\" and calculate the sum of \"Value\" for each group "
   ]
  },
  {
   "cell_type": "code",
   "execution_count": 47,
   "id": "8d368a2e",
   "metadata": {},
   "outputs": [],
   "source": [
    "grouped_df = merged_df.groupby('Religion')['Value'].sum().reset_index() "
   ]
  },
  {
   "cell_type": "raw",
   "id": "6f0e78bf",
   "metadata": {},
   "source": [
    "# Creating a bar plot using matplotlib for visualization "
   ]
  },
  {
   "cell_type": "code",
   "execution_count": 48,
   "id": "50115568",
   "metadata": {},
   "outputs": [
    {
     "data": {
      "image/png": "[encoded data removed]",
      "text/plain": [
       "<Figure size 720x432 with 1 Axes>"
      ]
     },
     "metadata": {
      "needs_background": "light"
     },
     "output_type": "display_data"
    }
   ],
   "source": [
    "plt.figure(figsize=(10, 6)) \n",
    "\n",
    "plt.bar(grouped_df['Religion'], grouped_df['Value']) \n",
    "\n",
    "plt.title('Comparison of \"Value\" by Religion Categories') \n",
    "\n",
    "plt.xlabel('Religion') \n",
    "\n",
    "plt.ylabel('Total Value') \n",
    "\n",
    "plt.tight_layout() \n",
    "\n",
    "plt.show() "
   ]
  },
  {
   "cell_type": "raw",
   "id": "17b5b24f",
   "metadata": {},
   "source": [
    "# In this code, we create a new Data Frame called “categories_df” that includes all the categorized countries along with their respective religions. We then merge this Data Frame with the original “violence_sorted” Data Frame to get the \"Value\" for each category. After merging, we group the Data Frame by \"Religion\" and calculate the sum of \"Value\" for each group. Finally, we create a bar plot to compare the total \"Value\" for each religion category. \n",
    " "
   ]
  },
  {
   "cell_type": "raw",
   "id": "06f51a0e",
   "metadata": {},
   "source": [
    "# I decided to add the countries’ religion as a column – First I created the religion list "
   ]
  },
  {
   "cell_type": "code",
   "execution_count": 49,
   "id": "608a32b1",
   "metadata": {},
   "outputs": [],
   "source": [
    "islam_countries = ['Afghanistan', 'Morocco', 'Mali', 'Eritrea', 'Chad', 'Azerbaijan', 'Gambia', 'Turkmenistan', 'Ethiopia', 'Guinea', 'Sierra Leone', 'Tajikistan', 'Pakistan', 'Egypt', 'Kyrgyz Republic', 'Yemen', 'Gabon', 'Kenya', 'Uganda', 'Senegal', 'Comoros', \"Cote d'Ivoire\", 'Niger', 'Somalia'] \n",
    "\n",
    "christianity_countries = ['Timor-Leste', 'Congo Democratic Republic', 'Congo', 'Tanzania', 'Zambia', 'Burundi', 'Lesotho', 'Nigeria', 'Liberia', 'Burkina Faso', 'Ghana', 'Armenia', 'Rwanda', 'Namibia', 'Sao Tome and Principe', 'Guyana', 'Albania', 'Maldives', 'Honduras', 'Nicaragua', 'Dominican Republic', 'Peru'] \n",
    "\n",
    "hinduism_countries = ['Nepal'] \n",
    "\n",
    "buddhism_countries = ['Myanmar', 'Cambodia'] \n",
    "\n",
    "african_traditional_countries = ['Zimbabwe', 'Cameroon', 'Kenya', 'Uganda', 'South Africa'] \n",
    "\n",
    "multiple_religions_countries = ['India', 'Indonesia', 'Togo', 'Bangladesh', 'Mozambique', 'Turkey', 'Madagascar', 'Benin', 'Angola', 'Philippines', 'Colombia', 'Malawi', 'Guatemala', 'Haiti', 'Bolivia', 'Nicaragua', 'Haiti', 'Bolivia', 'South Africa'] \n",
    "\n",
    " "
   ]
  },
  {
   "cell_type": "raw",
   "id": "894aea39",
   "metadata": {},
   "source": [
    "# Creating a new column 'Religion' and initializing it as None "
   ]
  },
  {
   "cell_type": "code",
   "execution_count": 50,
   "id": "b1209715",
   "metadata": {},
   "outputs": [],
   "source": [
    "violence_sorted['Religion'] = None "
   ]
  },
  {
   "cell_type": "raw",
   "id": "c1fac3f7",
   "metadata": {},
   "source": [
    "# Setting the religion values based on the country lists "
   ]
  },
  {
   "cell_type": "code",
   "execution_count": 51,
   "id": "02e94907",
   "metadata": {},
   "outputs": [],
   "source": [
    "violence_sorted.loc[violence_sorted['Country'].isin(islam_countries), 'Religion'] = 'Islam' \n",
    "\n",
    "violence_sorted.loc[violence_sorted['Country'].isin(christianity_countries), 'Religion'] = 'Christianity' \n",
    "\n",
    "violence_sorted.loc[violence_sorted['Country'].isin(hinduism_countries), 'Religion'] = 'Hinduism' \n",
    "\n",
    "violence_sorted.loc[violence_sorted['Country'].isin(buddhism_countries), 'Religion'] = 'Buddhism' \n",
    "\n",
    "violence_sorted.loc[violence_sorted['Country'].isin(african_traditional_countries), 'Religion'] = 'African Traditional' \n",
    "\n",
    "violence_sorted.loc[violence_sorted['Country'].isin(multiple_religions_countries), 'Religion'] = 'Multiple Religions' "
   ]
  },
  {
   "cell_type": "raw",
   "id": "c718f80c",
   "metadata": {},
   "source": [
    "# Displaying the updated Data Frame head.() "
   ]
  },
  {
   "cell_type": "code",
   "execution_count": 52,
   "id": "f57a92fa",
   "metadata": {},
   "outputs": [
    {
     "name": "stdout",
     "output_type": "stream",
     "text": [
      "       RecordID      Country Gender Demographics Question  \\\n",
      "66          351  Afghanistan      F            Employment   \n",
      "7783        394      Morocco      F            Employment   \n",
      "11023       412  Timor-Leste      F            Employment   \n",
      "7423        392         Mali      F            Employment   \n",
      "3666        371      Eritrea      F            Employment   \n",
      "\n",
      "      Demographics Response                              Question Survey Year  \\\n",
      "66        Employed for kind  ... for at least one specific reason  01/01/2015   \n",
      "7783      Employed for kind  ... for at least one specific reason  01/01/2003   \n",
      "11023     Employed for kind  ... for at least one specific reason  01/01/2016   \n",
      "7423      Employed for kind  ... for at least one specific reason  01/01/2018   \n",
      "3666      Employed for kind  ... for at least one specific reason  01/01/2002   \n",
      "\n",
      "       Value      Religion  \n",
      "66      86.9         Islam  \n",
      "7783    86.1         Islam  \n",
      "11023   85.2  Christianity  \n",
      "7423    83.3         Islam  \n",
      "3666    82.8         Islam  \n"
     ]
    }
   ],
   "source": [
    "print(violence_sorted.head()) "
   ]
  },
  {
   "cell_type": "raw",
   "id": "bb18d3be",
   "metadata": {},
   "source": [
    "# My next analysis is to know if there is relation between violence against women compared to their marital status. "
   ]
  },
  {
   "cell_type": "raw",
   "id": "d235ff56",
   "metadata": {},
   "source": [
    "# List of desired \"Demographics Response\" categories "
   ]
  },
  {
   "cell_type": "code",
   "execution_count": 53,
   "id": "dd2a2763",
   "metadata": {},
   "outputs": [],
   "source": [
    "desired_categories = ['Never married', 'Widowed, divorced, separated', 'Married or living together'] \n",
    "\n",
    " "
   ]
  },
  {
   "cell_type": "raw",
   "id": "e0f7deb5",
   "metadata": {},
   "source": [
    "# Filtering the Data Frame for the desired \"Demographics Response\" categories "
   ]
  },
  {
   "cell_type": "code",
   "execution_count": 54,
   "id": "be4dcfe0",
   "metadata": {},
   "outputs": [],
   "source": [
    "filtered_df = violence_sorted[violence_sorted['Demographics Response'].isin(desired_categories)] "
   ]
  },
  {
   "cell_type": "raw",
   "id": "b4ff34fb",
   "metadata": {},
   "source": [
    "# Creating a bar plot using seaborn for visualization "
   ]
  },
  {
   "cell_type": "code",
   "execution_count": 55,
   "id": "78c182e6",
   "metadata": {},
   "outputs": [
    {
     "data": {
      "image/png": "[encoded data removed]",
      "text/plain": [
       "<Figure size 864x432 with 1 Axes>"
      ]
     },
     "metadata": {
      "needs_background": "light"
     },
     "output_type": "display_data"
    }
   ],
   "source": [
    "plt.figure(figsize=(12, 6)) \n",
    "\n",
    "sns.barplot(data=filtered_df, x='Demographics Response', y='Value') \n",
    "\n",
    "plt.title('Comparison of Value for Marital Status')  # Corrected line \n",
    "\n",
    "plt.xlabel('Demographics Response') \n",
    "\n",
    "plt.ylabel('Value') \n",
    "\n",
    "plt.tight_layout() \n",
    "\n",
    "plt.show() "
   ]
  },
  {
   "cell_type": "raw",
   "id": "04ca0fc3",
   "metadata": {},
   "source": [
    "# In this code, we use the isin() function to filter the original “violence_sorted” Data Frame to include only rows with \"Demographics Response\" values that match the desired categories. We then create a bar plot using seaborn to compare the \"Value\" for the specified \"Demographics Response\" categories."
   ]
  },
  {
   "cell_type": "raw",
   "id": "44ba52b0",
   "metadata": {},
   "source": [
    "# Now my intention is to merge my violence against women Data Frame with my pregnancy and contraceptive Data Frame to analyse them together. I will merge them with how='inner', this means that the merge() function will only keep the rows where there is a matching \"Country\" value in both the \"violence_sorted\" and \"contracept_sorted\" data frames. Any rows with non-matching \"Country\" values will be dropped from the resulting merged_df data frame. "
   ]
  },
  {
   "cell_type": "code",
   "execution_count": 56,
   "id": "3c50b4cf",
   "metadata": {},
   "outputs": [],
   "source": [
    "merged_df = violence_sorted.merge(contracept_sorted, on='Country', how='inner') "
   ]
  },
  {
   "cell_type": "raw",
   "id": "8c20eecf",
   "metadata": {},
   "source": [
    "# I wanted to check the columns names of this new Data Frame "
   ]
  },
  {
   "cell_type": "code",
   "execution_count": 57,
   "id": "6de9dacb",
   "metadata": {},
   "outputs": [
    {
     "name": "stdout",
     "output_type": "stream",
     "text": [
      "Index(['RecordID', 'Country', 'Gender', 'Demographics Question',\n",
      "       'Demographics Response', 'Question', 'Survey Year', 'Value', 'Religion',\n",
      "       'Continent', 'Sub-Continent',\n",
      "       'Percentage distribution of women aged 15-49  (per country)',\n",
      "       'Pregnancy intention', 'Contraceptive availability',\n",
      "       'Contraceptive method'],\n",
      "      dtype='object')\n"
     ]
    }
   ],
   "source": [
    "print(merged_df.columns) "
   ]
  },
  {
   "cell_type": "raw",
   "id": "00eb3e2b",
   "metadata": {},
   "source": [
    "# Then I wanted to check how many countries the Data Frame had in total "
   ]
  },
  {
   "cell_type": "code",
   "execution_count": 58,
   "id": "89750a1b",
   "metadata": {},
   "outputs": [],
   "source": [
    "country_count = violence_sorted['Country'].nunique() "
   ]
  },
  {
   "cell_type": "code",
   "execution_count": 59,
   "id": "136d0ed5",
   "metadata": {},
   "outputs": [
    {
     "name": "stdout",
     "output_type": "stream",
     "text": [
      "Number of unique countries: 70\n"
     ]
    }
   ],
   "source": [
    "print(\"Number of unique countries:\", country_count)  "
   ]
  },
  {
   "cell_type": "raw",
   "id": "cedfcf99",
   "metadata": {},
   "source": [
    "# Here I will start my merged analysis. I wanted to know, if religion impacts the intention of pregnancy in women.  "
   ]
  },
  {
   "cell_type": "raw",
   "id": "68abdb84",
   "metadata": {},
   "source": [
    "# This code will create a bar plot using seaborn that shows the counts of \"Not wanting to avoid pregnancy\" and \"Wanting to avoid pregnancy\" for each religion. The x-axis represents different religions, the y-axis represents the count, and different colors represent the two pregnancy intention categories.  "
   ]
  },
  {
   "cell_type": "raw",
   "id": "d954cf89",
   "metadata": {},
   "source": [
    "# Counting the occurrences of each combination of Pregnancy intention and Religion "
   ]
  },
  {
   "cell_type": "code",
   "execution_count": 60,
   "id": "d44f249d",
   "metadata": {},
   "outputs": [],
   "source": [
    "count_df = merged_df.groupby([\"Pregnancy intention\", \"Religion\"]).size().reset_index(name=\"Count\") \n",
    "\n",
    " "
   ]
  },
  {
   "cell_type": "raw",
   "id": "4458a5f1",
   "metadata": {},
   "source": [
    "# Filtering for the desired values "
   ]
  },
  {
   "cell_type": "code",
   "execution_count": 61,
   "id": "e83f1ad6",
   "metadata": {},
   "outputs": [],
   "source": [
    "not_wanting_to_avoid = count_df[(count_df[\"Pregnancy intention\"] == \"Not wanting to avoid pregnancy\")] \n",
    "\n",
    "wanting_to_avoid = count_df[(count_df[\"Pregnancy intention\"] == \"Wanting to avoid pregnancy\")] "
   ]
  },
  {
   "cell_type": "raw",
   "id": "2df88a73",
   "metadata": {},
   "source": [
    "# Setting the style of seaborn "
   ]
  },
  {
   "cell_type": "code",
   "execution_count": 62,
   "id": "66e89f05",
   "metadata": {},
   "outputs": [],
   "source": [
    "sns.set(style=\"whitegrid\") "
   ]
  },
  {
   "cell_type": "raw",
   "id": "f9423df4",
   "metadata": {},
   "source": [
    "# Creating a bar plot using seaborn "
   ]
  },
  {
   "cell_type": "code",
   "execution_count": 63,
   "id": "9a2a9577",
   "metadata": {},
   "outputs": [
    {
     "data": {
      "image/png": "[encoded data removed]",
      "text/plain": [
       "<Figure size 720x432 with 1 Axes>"
      ]
     },
     "metadata": {},
     "output_type": "display_data"
    }
   ],
   "source": [
    "plt.figure(figsize=(10, 6)) \n",
    "\n",
    "sns.barplot(x=\"Religion\", y=\"Count\", hue=\"Pregnancy intention\", data=count_df) \n",
    "\n",
    "plt.title(\"Pregnancy Intention by Religion\") \n",
    "\n",
    "plt.xlabel(\"Religion\") \n",
    "\n",
    "plt.ylabel(\"Count\") \n",
    "\n",
    "plt.xticks(rotation=45) \n",
    "\n",
    "plt.legend(title=\"Pregnancy Intention\") \n",
    "\n",
    "plt.tight_layout() \n",
    "\n",
    "plt.show() "
   ]
  },
  {
   "cell_type": "raw",
   "id": "a6b72c55",
   "metadata": {},
   "source": [
    "#To finish my analysis, I wanted to analyse by religion, if the contraceptive needs of women were or weren’t met.  "
   ]
  },
  {
   "cell_type": "raw",
   "id": "51944c3f",
   "metadata": {},
   "source": [
    "# Counting the occurrences of each combination of Contraceptive availability and Religion "
   ]
  },
  {
   "cell_type": "code",
   "execution_count": 64,
   "id": "50d02869",
   "metadata": {},
   "outputs": [],
   "source": [
    "count_df = merged_df.groupby([\"Contraceptive availability\", \"Religion\"]).size().reset_index(name=\"Count\") "
   ]
  },
  {
   "cell_type": "raw",
   "id": "18b4b279",
   "metadata": {},
   "source": [
    "# Filtering for the desired values "
   ]
  },
  {
   "cell_type": "code",
   "execution_count": 65,
   "id": "fc7a49bb",
   "metadata": {},
   "outputs": [],
   "source": [
    "met_need = count_df[(count_df[\"Contraceptive availability\"] == \"Met need\")] \n",
    "\n",
    "unmet_need = count_df[(count_df[\"Contraceptive availability\"] == \"Unmet need\")] "
   ]
  },
  {
   "cell_type": "raw",
   "id": "b187cc8f",
   "metadata": {},
   "source": [
    "# Setting the style of seaborn "
   ]
  },
  {
   "cell_type": "code",
   "execution_count": 66,
   "id": "3f503f83",
   "metadata": {},
   "outputs": [],
   "source": [
    "sns.set(style=\"whitegrid\") "
   ]
  },
  {
   "cell_type": "raw",
   "id": "fd0a2d36",
   "metadata": {},
   "source": [
    "# Creating a bar plot using seaborn "
   ]
  },
  {
   "cell_type": "code",
   "execution_count": 67,
   "id": "feed621e",
   "metadata": {},
   "outputs": [
    {
     "data": {
      "image/png": "[encoded data removed]",
      "text/plain": [
       "<Figure size 720x432 with 1 Axes>"
      ]
     },
     "metadata": {},
     "output_type": "display_data"
    }
   ],
   "source": [
    "plt.figure(figsize=(10, 6)) \n",
    "\n",
    "sns.barplot(x=\"Religion\", y=\"Count\", hue=\"Contraceptive availability\", data=count_df) \n",
    "\n",
    "plt.title(\"Contraceptive Availability by Religion\") \n",
    "\n",
    "plt.xlabel(\"Religion\") \n",
    "\n",
    "plt.ylabel(\"Count\") \n",
    "\n",
    "plt.xticks(rotation=45) \n",
    "\n",
    "plt.legend(title=\"Contraceptive Availability\") \n",
    "\n",
    "plt.tight_layout() \n",
    "\n",
    "plt.show() "
   ]
  },
  {
   "cell_type": "code",
   "execution_count": null,
   "id": "b706c022",
   "metadata": {},
   "outputs": [],
   "source": []
  }
 ],
 "metadata": {
  "kernelspec": {
   "display_name": "Python 3",
   "language": "python",
   "name": "python3"
  },
  "language_info": {
   "codemirror_mode": {
    "name": "ipython",
    "version": 3
   },
   "file_extension": ".py",
   "mimetype": "text/x-python",
   "name": "python",
   "nbconvert_exporter": "python",
   "pygments_lexer": "ipython3",
   "version": "3.8.8"
  }
 },
 "nbformat": 4,
 "nbformat_minor": 5
}
